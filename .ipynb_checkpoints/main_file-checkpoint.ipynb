{
 "cells": [
  {
   "cell_type": "markdown",
   "id": "0b323f0f-a7eb-4af7-b515-2f9221ed25c9",
   "metadata": {},
   "source": [
    "<div align=\"center\">\n",
    "  <h1 style=\"color: #4CAF50; font-size: 3em; font-family: Arial, sans-serif;\">\n",
    "    ~ <b>FINAL PROJECT</b> ~\n",
    "  </h1>\n",
    "</div>\n"
   ]
  },
  {
   "cell_type": "markdown",
   "id": "6f2342f0-748a-4d3e-86f9-11d3c90bc507",
   "metadata": {},
   "source": [
    "- ### [**🌐 Kaggle**](https://www.kaggle.com/datasets/jsphyg/weather-dataset-rattle-package) </br>\n",
    "- ### [**📘 Student Portal | Guideline**](https://my.ironhack.com/cohorts/64f9d71d3689ad002ac79d8b/lms/courses/course-v1:IRONHACK+DAFT4+202409_BER/modules/ironhack-course-chapter_8/units/ironhack-course-chapter_8-sequential-vertical_2)</br>\n",
    "- ### [**📂 GitHub: Final Project**](https://github.com/Marc-Bouche/final-project)</br>\n",
    "-  ### [**🗨️ Presentation**](https://docs.google.com/presentation/d/1h-ykC9EjER1dtvpqKTz3Wb-pNkcOA2AqpSpj7C4jCyI/edit#slide=id.p)</br>\n",
    "-  ### [**📱 Streamlit**]()</br>"
   ]
  },
  {
   "cell_type": "markdown",
   "id": "d44c6345-78e7-48dc-b676-a5c7bc9bfdd3",
   "metadata": {},
   "source": [
    "# DATA IMPORT"
   ]
  },
  {
   "cell_type": "code",
   "execution_count": null,
   "id": "08292ad2-876b-4210-91d5-82d6255a70d0",
   "metadata": {},
   "outputs": [],
   "source": []
  }
 ],
 "metadata": {
  "kernelspec": {
   "display_name": "Python 3 (ipykernel)",
   "language": "python",
   "name": "python3"
  },
  "language_info": {
   "codemirror_mode": {
    "name": "ipython",
    "version": 3
   },
   "file_extension": ".py",
   "mimetype": "text/x-python",
   "name": "python",
   "nbconvert_exporter": "python",
   "pygments_lexer": "ipython3",
   "version": "3.12.4"
  }
 },
 "nbformat": 4,
 "nbformat_minor": 5
}
